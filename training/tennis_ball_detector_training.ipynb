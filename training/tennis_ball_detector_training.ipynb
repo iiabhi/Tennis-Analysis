{
 "cells": [
  {
   "cell_type": "code",
   "execution_count": null,
   "metadata": {},
   "outputs": [],
   "source": [
    "%pip install roboflow\n",
    "%pip install ultralytics"
   ]
  },
  {
   "cell_type": "markdown",
   "metadata": {},
   "source": [
    "#### Dataset already downloaded, you don't need to download, you can find dataset in training/tennis-ball-detection-6 still if you wish to do it yourself, run the below cell with your apikey.  \n",
    "#### Run below code.  \n",
    "#### >A new folder name \"tennis-ball-detection-6\" will be made which will contain your dataset"
   ]
  },
  {
   "cell_type": "markdown",
   "metadata": {},
   "source": [
    "# Get Dataset"
   ]
  },
  {
   "cell_type": "code",
   "execution_count": null,
   "metadata": {},
   "outputs": [],
   "source": [
    "%pip install roboflow\n",
    "\n",
    "from roboflow import Roboflow\n",
    "rf = Roboflow(api_key=\"API_KEY\") #paste your own api key here.\n",
    "project = rf.workspace(\"viren-dhanwani\").project(\"tennis-ball-detection\")\n",
    "version = project.version(6)\n",
    "dataset = version.download(\"yolov5\")\n"
   ]
  },
  {
   "cell_type": "markdown",
   "metadata": {},
   "source": [
    "#### Shutil is a python library for file operations!.  \n",
    "#### Used to copy, move, delete file or directories!  \n",
    "#### Below operation was done to avoid conflicts!!"
   ]
  },
  {
   "cell_type": "code",
   "execution_count": 2,
   "metadata": {},
   "outputs": [],
   "source": [
    "import shutil"
   ]
  },
  {
   "cell_type": "code",
   "execution_count": null,
   "metadata": {},
   "outputs": [],
   "source": [
    "shutil.move(\"tennis-ball-detection-6/train\",\n",
    "\"tennis-ball-detection-6/tennis-ball-detection-6/train\",\n",
    ")\n",
    "shutil.move(\"tennis-ball-detection-6/test\",\n",
    "\"tennis-ball-detection-6/tennis-ball-detection-6/test\",\n",
    ")\n",
    "shutil.move(\"tennis-ball-detection-6/valid\",\n",
    "\"tennis-ball-detection-6/tennis-ball-detection-6/valid\",\n",
    ")"
   ]
  },
  {
   "cell_type": "markdown",
   "metadata": {},
   "source": [
    "#### To Train model: Use ultralytics and yolov5 model variant 'yolov5l6' (its a larger time taking version but gives accuracy)\n",
    "#### and yolov5l6u is an model existing in ultralytics and can be trained."
   ]
  },
  {
   "cell_type": "code",
   "execution_count": null,
   "metadata": {},
   "outputs": [],
   "source": [
    "!yolo task=detect mode=train model=yolov5l6u.pt data={dataset.location}/data.yaml epochs=100 imgsz=640"
   ]
  },
  {
   "cell_type": "markdown",
   "metadata": {},
   "source": [
    "#### IMPORTANT: You can run this locally but I advice you to use GOOGLE COLAB as it gives free GPU.\n",
    "#### Google Drive link for help: https://colab.research.google.com/drive/1z6ypr057oIHuVwT7z0j-wNrt0Tni6idt#scrollTo=ZlznkPUJUmB9\n",
    "#### >runs>detects>train>weights>best.pt   \n",
    "#### >runs>detects>train>weights>last.pt  \n",
    "#### Download both of them and paste one of them into >models (create a model directory of not there) in project directory (Rename: yolov5_last.pt or yolov5_best.pt) Chose one of the two which gives better accuracy ( for me, it was last.pt)"
   ]
  },
  {
   "cell_type": "code",
   "execution_count": null,
   "metadata": {},
   "outputs": [],
   "source": []
  },
  {
   "cell_type": "markdown",
   "metadata": {},
   "source": [
    "#### Jupyter supports \"magic commands\", and ! is a special syntax that tells Python:\n",
    "\n",
    "#### \"Run this line as if it were typed in the terminal.\""
   ]
  },
  {
   "cell_type": "code",
   "execution_count": null,
   "metadata": {},
   "outputs": [],
   "source": []
  }
 ],
 "metadata": {
  "kernelspec": {
   "display_name": "cv_env",
   "language": "python",
   "name": "python3"
  },
  "language_info": {
   "codemirror_mode": {
    "name": "ipython",
    "version": 3
   },
   "file_extension": ".py",
   "mimetype": "text/x-python",
   "name": "python",
   "nbconvert_exporter": "python",
   "pygments_lexer": "ipython3",
   "version": "3.8.10"
  }
 },
 "nbformat": 4,
 "nbformat_minor": 2
}
